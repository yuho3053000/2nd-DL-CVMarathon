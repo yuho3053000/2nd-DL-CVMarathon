{
 "cells": [
  {
   "cell_type": "markdown",
   "metadata": {},
   "source": [
    "# 作業\n",
    "\n",
    "練習以旋轉變換 + 平移變換來實現仿射變換\n",
    "> 旋轉 45 度 + 縮放 0.5 倍 + 平移 (x+100, y-50)"
   ]
  },
  {
   "cell_type": "code",
   "execution_count": 44,
   "metadata": {},
   "outputs": [],
   "source": [
    "import cv2 as cv\n",
    "import time\n",
    "import numpy as np\n",
    "\n",
    "img = cv.imread('C://Users/EZ/Documents/Deap Learning/lena.png')"
   ]
  },
  {
   "cell_type": "markdown",
   "metadata": {},
   "source": [
    "## Affine Transformation - Case 2: any three point"
   ]
  },
  {
   "cell_type": "code",
   "execution_count": 47,
   "metadata": {},
   "outputs": [],
   "source": [
    "# 給定兩兩一對，共三對的點\n",
    "# 這邊我們先用手動設定三對點，一般情況下會有點的資料或是透過介面手動標記三個點\n",
    "rows, cols = img.shape[:2]\n",
    "pt1 = np.array([[50,50], [300,100], [200,300]], dtype=np.float32)\n",
    "pt2 = np.array([[80,80], [330,150], [300,300]], dtype=np.float32)\n",
    "\n",
    "A1 = pt1[0][0]\n",
    "A2 = pt1[0][1]\n",
    "\n",
    "B1 = pt1[1][0]\n",
    "B2 = pt1[1][1]\n",
    "\n",
    "C1 = pt1[2][0]\n",
    "C2 = pt1[2][1]\n",
    "\n",
    "A1_ = pt2[0][0]\n",
    "A2_ = pt2[0][1]\n",
    "\n",
    "B1_ = pt2[1][0]\n",
    "B2_ = pt2[1][1]\n",
    "\n",
    "C1_ = pt2[2][0]\n",
    "C2_ = pt2[2][1]\n",
    "\n",
    "\n",
    "a = np.array([[A1,A2,1,0,0,0], [0,0,0,A1,A2,1], [B1,B2,1,0,0,0], [0,0,0,B1,B2,1], [C1,C2,1,0,0,0], [0,0,0,C1,C2,1]])\n",
    "b = np.array([A1_,A2_,B1_,B2_,C1_,C2_])\n",
    "x = np.linalg.solve(a, b)\n",
    "# print(x[0])\n",
    "# print(x[3:5])\n",
    "x1 = np.array([[x[0],x[1],x[2]],[x[3],x[4],x[5]]],dtype=np.float32)\n",
    "# print(x1)\n",
    "# 取得 affine 矩陣並做 affine 操作\n",
    "M_affine = x1\n",
    "img_affine = cv.warpAffine(img, M_affine, (cols, rows)) \n",
    "\n",
    "# 在圖片上標記點\n",
    "img_copy = img.copy()\n",
    "for idx, pts in enumerate(pt1):\n",
    "    pts = tuple(map(int, pts))\n",
    "    cv.circle(img_copy, pts, 3, (0, 255, 0), -1)\n",
    "    cv.putText(img_copy, str(idx), (pts[0]+5, pts[1]+5), cv.FONT_HERSHEY_COMPLEX, 1, (0, 255, 0), 1)\n",
    "\n",
    "for idx, pts in enumerate(pt2):\n",
    "    pts = tuple(map(int, pts))\n",
    "    cv.circle(img_affine, pts, 3, (0, 255, 0), -1)\n",
    "    cv.putText(img_affine, str(idx), (pts[0]+5, pts[1]+5), cv.FONT_HERSHEY_COMPLEX, 1, (0, 255, 0), 1)\n",
    "\n",
    "# 組合 + 顯示圖片\n",
    "img_show_affine = np.hstack((img_copy, img_affine))\n",
    "while True:\n",
    "    cv.imshow('affine transformation', img_show_affine)\n",
    "    k = cv.waitKey(0)\n",
    "    if k == 27:\n",
    "        cv.destroyAllWindows()\n",
    "        break"
   ]
  },
  {
   "cell_type": "code",
   "execution_count": null,
   "metadata": {},
   "outputs": [],
   "source": []
  }
 ],
 "metadata": {
  "kernelspec": {
   "display_name": "Python 3",
   "language": "python",
   "name": "python3"
  },
  "language_info": {
   "codemirror_mode": {
    "name": "ipython",
    "version": 3
   },
   "file_extension": ".py",
   "mimetype": "text/x-python",
   "name": "python",
   "nbconvert_exporter": "python",
   "pygments_lexer": "ipython3",
   "version": "3.7.4"
  }
 },
 "nbformat": 4,
 "nbformat_minor": 2
}
