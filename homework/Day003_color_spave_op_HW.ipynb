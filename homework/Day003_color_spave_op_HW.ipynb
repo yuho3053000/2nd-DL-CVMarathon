{
 "cells": [
  {
   "cell_type": "markdown",
   "metadata": {},
   "source": [
    "# 作業\n",
    "\n",
    "實作各種不一樣的方式來調整飽和 / 對比 / 明亮\n",
    "\n",
    "1. 改變 color space 來調整飽和度\n",
    "2. 實作直方圖均衡\n",
    "3. alpha/ beta 調整對比 / 明亮"
   ]
  },
  {
   "cell_type": "code",
   "execution_count": 45,
   "metadata": {},
   "outputs": [],
   "source": [
    "import cv2 as cv\n",
    "import numpy as np\n",
    "\n",
    "img_path = 'C://Users/EZ/Documents/Deap Learning/lena.png'\n",
    "\n",
    "# 以彩色圖片的方式載入\n",
    "img = cv.imread(img_path)"
   ]
  },
  {
   "cell_type": "markdown",
   "metadata": {},
   "source": [
    "## 改變飽和度\n",
    "\n",
    "- 轉換成 HSV color space, 改變 s channel 的值"
   ]
  },
  {
   "cell_type": "code",
   "execution_count": 60,
   "metadata": {},
   "outputs": [],
   "source": [
    "# 為了要改變飽和度，我們先把 color space 轉成 HSV 格式\n",
    "img_hsv = cv.cvtColor(img, cv.COLOR_BGR2HSV)\n",
    "change_percentage = 0.2\n",
    "\n",
    "# 針對飽和度的值做改變，超過界線 0~1 的都會 bound\n",
    "# 在 HSV color space 減少飽和度\n",
    "img_hsv_down = img_hsv.astype('float32')\n",
    "img_hsv_down[...,1] = img_hsv_down[..., 2]/255 - change_percentage\n",
    "img_hsv_down[img_hsv_down[..., 1] < 0] = 0\n",
    "img_hsv_down[..., 1] = img_hsv_down[..., 1]*255\n",
    "img_hsv_down = img_hsv_down.astype('uint8')\n",
    "\n",
    "# # 在 HSV color space 增加飽和度\n",
    "img_hsv_up = img_hsv.astype('float32')\n",
    "img_hsv_up[...,1] = img_hsv_up[..., 2]/255 + change_percentage\n",
    "img_hsv_up[img_hsv_up[..., 1] < 0] = 0\n",
    "img_hsv_up[..., 1] = img_hsv_up[..., 1]*255\n",
    "img_hsv_up = img_hsv_up.astype('uint8')\n",
    "\n",
    "# # 轉換 color space 回 BGR\n",
    "img_hsv_down = cv.cvtColor(img_hsv_down, cv.COLOR_HSV2BGR)\n",
    "img_hsv_up = cv.cvtColor(img_hsv_up, cv.COLOR_HSV2BGR)\n",
    "\n",
    "# # 組合圖片 + 顯示圖片\n",
    "img_hsv_change = np.hstack((img, img_hsv_down, img_hsv_up))\n",
    "while True:\n",
    "    cv.imshow('change saturation', img_hsv_change)\n",
    "    \n",
    "    k = cv.waitKey(0)\n",
    "    if k == 27:\n",
    "        cv.destroyAllWindows()\n",
    "        break"
   ]
  },
  {
   "cell_type": "markdown",
   "metadata": {},
   "source": [
    "## 直方圖均衡\n",
    "\n",
    "1. case 1: 把彩圖拆開對每個 channel 個別做直方圖均衡再組合起來\n",
    "2. case 2: 轉換 color space 到 HSV 之後對其中一個 channel 做直方圖均衡"
   ]
  },
  {
   "cell_type": "code",
   "execution_count": 61,
   "metadata": {},
   "outputs": [],
   "source": [
    "# case 1\n",
    "# 每個 channel 個別做直方圖均衡\n",
    "equalHist_by_channel_b = cv.equalizeHist(img[...,0])\n",
    "equalHist_by_channel_g = cv.equalizeHist(img[...,1])\n",
    "equalHist_by_channel_r = cv.equalizeHist(img[...,2])\n",
    "\n",
    "# # 組合經過直方圖均衡的每個 channel\n",
    "img_bgr_equal = cv.merge((equalHist_by_channel_b,equalHist_by_channel_g,equalHist_by_channel_r))\n",
    "\n",
    "# # case 2 - 轉換 color space 後只對其中一個 channel 做直方圖均衡\n",
    "img_hsv_equal = cv.cvtColor(img, cv.COLOR_BGR2HSV)\n",
    "img_hsv_equal_s = cv.equalizeHist(img_hsv_equal[...,1]) # to S channel\n",
    "img_hsv_equal = cv.merge((img_hsv_equal[...,0],img_hsv_equal_s,img_hsv_equal[...,2]))\n",
    "\n",
    "# # 組合圖片 + 顯示圖片\n",
    "img_bgr_equalHist = np.hstack((img, img_bgr_equal, img_hsv_equal))\n",
    "while True:\n",
    "    # 比較 (原圖, BGR color space 對每個 channel 做直方圖均衡, HSV color space 對明度做直方圖均衡)\n",
    "    cv.imshow('bgr equal histogram', img_bgr_equalHist)\n",
    "    k = cv.waitKey(0)\n",
    "    if k == 27:\n",
    "        cv.destroyAllWindows()\n",
    "        break"
   ]
  },
  {
   "cell_type": "markdown",
   "metadata": {},
   "source": [
    "## 調整對比 / 明亮"
   ]
  },
  {
   "cell_type": "code",
   "execution_count": 62,
   "metadata": {},
   "outputs": [],
   "source": [
    "# alpha: 控制對比度 (1.0~3.0)\n",
    "# beta: 控制明亮度 (0~255)\n",
    "add_contrast = cv.convertScaleAbs(img, alpha=2.8, beta=0)\n",
    "add_lighness = cv.convertScaleAbs(img, alpha=1, beta=150)\n",
    "\n",
    "# 組合圖片 + 顯示圖片\n",
    "img_contrast_light = np.hstack((img, add_contrast, add_lighness))\n",
    "while True:\n",
    "    # 比較不同程度的對比 / 明亮\n",
    "    cv.imshow('adjust contrast and brighness', img_contrast_light)\n",
    "    k = cv.waitKey(0)\n",
    "    if k == 27:\n",
    "        cv.destroyAllWindows()\n",
    "        break"
   ]
  },
  {
   "cell_type": "code",
   "execution_count": null,
   "metadata": {},
   "outputs": [],
   "source": []
  }
 ],
 "metadata": {
  "kernelspec": {
   "display_name": "Python 3",
   "language": "python",
   "name": "python3"
  },
  "language_info": {
   "codemirror_mode": {
    "name": "ipython",
    "version": 3
   },
   "file_extension": ".py",
   "mimetype": "text/x-python",
   "name": "python",
   "nbconvert_exporter": "python",
   "pygments_lexer": "ipython3",
   "version": "3.7.4"
  }
 },
 "nbformat": 4,
 "nbformat_minor": 2
}
