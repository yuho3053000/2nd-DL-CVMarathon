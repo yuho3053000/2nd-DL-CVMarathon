{
 "cells": [
  {
   "cell_type": "markdown",
   "metadata": {},
   "source": [
    "# 作業\n",
    "\n",
    "思考一下我們前面有提到圖片是矩陣，但維度可能會不一樣\n",
    "例如灰階圖只有兩個維度，RGB 彩圖則有 3 個維度\n",
    "\n",
    "假如今天我們把 RGB 3 個維度拆開來看會有甚麼不同的效果呢？"
   ]
  },
  {
   "cell_type": "code",
   "execution_count": 1,
   "metadata": {},
   "outputs": [],
   "source": [
    "import numpy as np\n",
    "img_path = 'C://Users/EZ/Documents/Deap Learning/lena.png'\n",
    "import cv2 as cv\n",
    "img = cv.imread(img_path)\n",
    "r = np.zeros(((512,512,3))) \n",
    "g = np.zeros(((512,512,3))) \n",
    "b = np.zeros(((512,512,3))) "
   ]
  },
  {
   "cell_type": "code",
   "execution_count": 2,
   "metadata": {},
   "outputs": [],
   "source": [
    "for x in range(512):\n",
    "    for y in range(512):\n",
    "        b[x][y][0] = img[x][y][0]\n",
    "        g[x][y][1] = img[x][y][1]\n",
    "        r[x][y][2] = img[x][y][2]"
   ]
  },
  {
   "cell_type": "code",
   "execution_count": 4,
   "metadata": {},
   "outputs": [
    {
     "data": {
      "text/plain": [
       "True"
      ]
     },
     "execution_count": 4,
     "metadata": {},
     "output_type": "execute_result"
    }
   ],
   "source": [
    "cv.imwrite('C://Users/EZ/Documents/Deap Learning/lena_R.png',r)\n",
    "cv.imwrite('C://Users/EZ/Documents/Deap Learning/lena_G.png',g) \n",
    "cv.imwrite('C://Users/EZ/Documents/Deap Learning/lena_B.png',b) "
   ]
  },
  {
   "cell_type": "code",
   "execution_count": 6,
   "metadata": {},
   "outputs": [],
   "source": [
    "img_path_R = 'C://Users/EZ/Documents/Deap Learning/lena_R.png'\n",
    "img_path_G = 'C://Users/EZ/Documents/Deap Learning/lena_G.png'\n",
    "img_path_B = 'C://Users/EZ/Documents/Deap Learning/lena_B.png'\n",
    "img_R = cv.imread(img_path_R)\n",
    "img_G = cv.imread(img_path_G)\n",
    "img_B = cv.imread(img_path_B)\n",
    "while True:\n",
    "    # 顯示彩圖\n",
    "    cv.imshow('Lena', img)\n",
    "    cv.imshow('R Channel', img_R)\n",
    "    cv.imshow('G Channel', img_G)\n",
    "    cv.imshow('B Channel', img_B)\n",
    "    \n",
    "    # 直到按下 ESC 鍵才會自動關閉視窗結束程式\n",
    "    k = cv.waitKey(0)\n",
    "    if k == 27:\n",
    "        cv.destroyAllWindows()\n",
    "        break"
   ]
  }
 ],
 "metadata": {
  "kernelspec": {
   "display_name": "Python 3",
   "language": "python",
   "name": "python3"
  },
  "language_info": {
   "codemirror_mode": {
    "name": "ipython",
    "version": 3
   },
   "file_extension": ".py",
   "mimetype": "text/x-python",
   "name": "python",
   "nbconvert_exporter": "python",
   "pygments_lexer": "ipython3",
   "version": "3.7.4"
  }
 },
 "nbformat": 4,
 "nbformat_minor": 2
}
